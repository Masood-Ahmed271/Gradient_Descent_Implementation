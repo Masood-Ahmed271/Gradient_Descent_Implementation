{
  "cells": [
    {
      "cell_type": "markdown",
      "metadata": {
        "id": "FhOP8aA3C1Z7"
      },
      "source": [
        "\n",
        "## <center>    Gradient Descent\n",
        "#####<center> **Name** - Masood Ahmed\n",
        "<br/>\n",
        "<br/>\n",
        "\n",
        "### **Task** <br>\n",
        "**Dataset:** https://www.kaggle.com/datasets/mirichoi0218/insurance <br>\n",
        "The data contains medical information and costs billed by health insurance companies. It contains 1338 rows of data and the following columns: age, gender, BMI, children, smoker, region and insurance charges. <br> <br>\n",
        "Implement gradient descent on this dataset. <br> <br>\n",
        "To reduce the efforts for data processing, you can just use the features including age,\n",
        "BMI and children to predict insurance charges.\n",
        "<br><br>\n",
        "Implement the equations of gradient descent yourselves.\n",
        "<br>\n",
        "<br> Tune the learning rate and plot the loss curve:<br>\n",
        "* X axis: num iterations\n",
        "* Y axis: loss values\n",
        "</span>"
      ]
    },
    {
      "cell_type": "markdown",
      "metadata": {
        "id": "IwDzRIZbFJuG"
      },
      "source": [
        "**Dataset Discription:**\n",
        "\n",
        "The dataset consists of several columns, each representing different attributes or features related to health insurance:\n",
        "\n",
        "- **age:** This column represents the age of the primary beneficiary, likely referring to the age of the insured individual.\n",
        "\n",
        "- **sex:** Here, the dataset includes information about the gender of the insurance contractor, with possible values being \"female\" or \"male.\"\n",
        "\n",
        "- **bmi:** The BMI, or Body Mass Index, is provided as an indicator of body weight. It offers insights into whether an individual's weight is relatively high or low compared to their height. The BMI is computed as weight in kilograms divided by the square of height in meters. Ideally, a BMI falls within the range of 18.5 to 24.9 to indicate a healthy weight.\n",
        "\n",
        "- **children:** This column reflects the number of children covered by health insurance or, more broadly, the number of dependents for the primary beneficiary.\n",
        "\n",
        "- **smoker:** The dataset includes information about whether the individual is a smoker or a non-smoker, which is a significant factor in health insurance considerations.\n",
        "\n",
        "- **region:** It specifies the beneficiary's residential area in the United States and includes regions like northeast, southeast, southwest, and northwest.\n",
        "\n",
        "- **charges:** This column contains data regarding individual medical costs billed by health insurance, which is a fundamental aspect of health insurance analysis and evaluation.\n",
        "\n",
        "This dataset provides valuable information for exploring various aspects of health insurance, including age demographics, gender distribution, BMI, the number of dependents, smoking habits, regional differences, and individual medical charges. It serves as a practical and illustrative dataset for machine learning and data analysis projects, particularly in the context of health insurance-related applications."
      ]
    },
    {
      "cell_type": "markdown",
      "metadata": {
        "id": "jqWNRhdaK50w"
      },
      "source": [
        "## Import Library and Dataset\n",
        "Now we will import couple of python library required for our analysis and import dataset"
      ]
    },
    {
      "cell_type": "code",
      "execution_count": 1,
      "metadata": {
        "id": "lwQeZgtHASFv"
      },
      "outputs": [],
      "source": [
        "# Importing Necessary Libraries\n",
        "import numpy as np #Data manipulation\n",
        "import pandas as pd #Data manipulation\n",
        "import seaborn as sns # Visualization\n",
        "import matplotlib.pyplot as plt # Visualization"
      ]
    },
    {
      "cell_type": "code",
      "execution_count": 2,
      "metadata": {
        "id": "zHJa7P6NH1ml"
      },
      "outputs": [],
      "source": [
        "# To remove warnings regaridng deprecated functions in different versions of different libraries\n",
        "import warnings\n",
        "warnings.filterwarnings('ignore')"
      ]
    },
    {
      "cell_type": "code",
      "execution_count": 3,
      "metadata": {
        "colab": {
          "base_uri": "https://localhost:8080/"
        },
        "id": "9lsYT00uAhfx",
        "outputId": "b85317e3-8447-4b0e-bb87-9dfba9157888"
      },
      "outputs": [
        {
          "name": "stdout",
          "output_type": "stream",
          "text": [
            "Drive already mounted at /content/gdrive; to attempt to forcibly remount, call drive.mount(\"/content/gdrive\", force_remount=True).\n"
          ]
        }
      ],
      "source": [
        "# Mounting google drive to get the dataset\n",
        "from google.colab import drive\n",
        "drive.mount('/content/gdrive')"
      ]
    },
    {
      "cell_type": "code",
      "execution_count": 4,
      "metadata": {
        "colab": {
          "base_uri": "https://localhost:8080/",
          "height": 424
        },
        "id": "3cXH_bpEAh6m",
        "outputId": "b6206f1e-fae3-4ec1-ee30-e866efdccb8f"
      },
      "outputs": [
        {
          "data": {
            "text/html": [
              "\n",
              "  <div id=\"df-2a5a50c5-e8a0-4cd2-9d0e-6a35254c9d52\" class=\"colab-df-container\">\n",
              "    <div>\n",
              "<style scoped>\n",
              "    .dataframe tbody tr th:only-of-type {\n",
              "        vertical-align: middle;\n",
              "    }\n",
              "\n",
              "    .dataframe tbody tr th {\n",
              "        vertical-align: top;\n",
              "    }\n",
              "\n",
              "    .dataframe thead th {\n",
              "        text-align: right;\n",
              "    }\n",
              "</style>\n",
              "<table border=\"1\" class=\"dataframe\">\n",
              "  <thead>\n",
              "    <tr style=\"text-align: right;\">\n",
              "      <th></th>\n",
              "      <th>age</th>\n",
              "      <th>sex</th>\n",
              "      <th>bmi</th>\n",
              "      <th>children</th>\n",
              "      <th>smoker</th>\n",
              "      <th>region</th>\n",
              "      <th>charges</th>\n",
              "    </tr>\n",
              "  </thead>\n",
              "  <tbody>\n",
              "    <tr>\n",
              "      <th>0</th>\n",
              "      <td>19</td>\n",
              "      <td>female</td>\n",
              "      <td>27.900</td>\n",
              "      <td>0</td>\n",
              "      <td>yes</td>\n",
              "      <td>southwest</td>\n",
              "      <td>16884.92400</td>\n",
              "    </tr>\n",
              "    <tr>\n",
              "      <th>1</th>\n",
              "      <td>18</td>\n",
              "      <td>male</td>\n",
              "      <td>33.770</td>\n",
              "      <td>1</td>\n",
              "      <td>no</td>\n",
              "      <td>southeast</td>\n",
              "      <td>1725.55230</td>\n",
              "    </tr>\n",
              "    <tr>\n",
              "      <th>2</th>\n",
              "      <td>28</td>\n",
              "      <td>male</td>\n",
              "      <td>33.000</td>\n",
              "      <td>3</td>\n",
              "      <td>no</td>\n",
              "      <td>southeast</td>\n",
              "      <td>4449.46200</td>\n",
              "    </tr>\n",
              "    <tr>\n",
              "      <th>3</th>\n",
              "      <td>33</td>\n",
              "      <td>male</td>\n",
              "      <td>22.705</td>\n",
              "      <td>0</td>\n",
              "      <td>no</td>\n",
              "      <td>northwest</td>\n",
              "      <td>21984.47061</td>\n",
              "    </tr>\n",
              "    <tr>\n",
              "      <th>4</th>\n",
              "      <td>32</td>\n",
              "      <td>male</td>\n",
              "      <td>28.880</td>\n",
              "      <td>0</td>\n",
              "      <td>no</td>\n",
              "      <td>northwest</td>\n",
              "      <td>3866.85520</td>\n",
              "    </tr>\n",
              "    <tr>\n",
              "      <th>...</th>\n",
              "      <td>...</td>\n",
              "      <td>...</td>\n",
              "      <td>...</td>\n",
              "      <td>...</td>\n",
              "      <td>...</td>\n",
              "      <td>...</td>\n",
              "      <td>...</td>\n",
              "    </tr>\n",
              "    <tr>\n",
              "      <th>1333</th>\n",
              "      <td>50</td>\n",
              "      <td>male</td>\n",
              "      <td>30.970</td>\n",
              "      <td>3</td>\n",
              "      <td>no</td>\n",
              "      <td>northwest</td>\n",
              "      <td>10600.54830</td>\n",
              "    </tr>\n",
              "    <tr>\n",
              "      <th>1334</th>\n",
              "      <td>18</td>\n",
              "      <td>female</td>\n",
              "      <td>31.920</td>\n",
              "      <td>0</td>\n",
              "      <td>no</td>\n",
              "      <td>northeast</td>\n",
              "      <td>2205.98080</td>\n",
              "    </tr>\n",
              "    <tr>\n",
              "      <th>1335</th>\n",
              "      <td>18</td>\n",
              "      <td>female</td>\n",
              "      <td>36.850</td>\n",
              "      <td>0</td>\n",
              "      <td>no</td>\n",
              "      <td>southeast</td>\n",
              "      <td>1629.83350</td>\n",
              "    </tr>\n",
              "    <tr>\n",
              "      <th>1336</th>\n",
              "      <td>21</td>\n",
              "      <td>female</td>\n",
              "      <td>25.800</td>\n",
              "      <td>0</td>\n",
              "      <td>no</td>\n",
              "      <td>southwest</td>\n",
              "      <td>2007.94500</td>\n",
              "    </tr>\n",
              "    <tr>\n",
              "      <th>1337</th>\n",
              "      <td>61</td>\n",
              "      <td>female</td>\n",
              "      <td>29.070</td>\n",
              "      <td>0</td>\n",
              "      <td>yes</td>\n",
              "      <td>northwest</td>\n",
              "      <td>29141.36030</td>\n",
              "    </tr>\n",
              "  </tbody>\n",
              "</table>\n",
              "<p>1338 rows × 7 columns</p>\n",
              "</div>\n",
              "    <div class=\"colab-df-buttons\">\n",
              "\n",
              "  <div class=\"colab-df-container\">\n",
              "    <button class=\"colab-df-convert\" onclick=\"convertToInteractive('df-2a5a50c5-e8a0-4cd2-9d0e-6a35254c9d52')\"\n",
              "            title=\"Convert this dataframe to an interactive table.\"\n",
              "            style=\"display:none;\">\n",
              "\n",
              "  <svg xmlns=\"http://www.w3.org/2000/svg\" height=\"24px\" viewBox=\"0 -960 960 960\">\n",
              "    <path d=\"M120-120v-720h720v720H120Zm60-500h600v-160H180v160Zm220 220h160v-160H400v160Zm0 220h160v-160H400v160ZM180-400h160v-160H180v160Zm440 0h160v-160H620v160ZM180-180h160v-160H180v160Zm440 0h160v-160H620v160Z\"/>\n",
              "  </svg>\n",
              "    </button>\n",
              "\n",
              "  <style>\n",
              "    .colab-df-container {\n",
              "      display:flex;\n",
              "      gap: 12px;\n",
              "    }\n",
              "\n",
              "    .colab-df-convert {\n",
              "      background-color: #E8F0FE;\n",
              "      border: none;\n",
              "      border-radius: 50%;\n",
              "      cursor: pointer;\n",
              "      display: none;\n",
              "      fill: #1967D2;\n",
              "      height: 32px;\n",
              "      padding: 0 0 0 0;\n",
              "      width: 32px;\n",
              "    }\n",
              "\n",
              "    .colab-df-convert:hover {\n",
              "      background-color: #E2EBFA;\n",
              "      box-shadow: 0px 1px 2px rgba(60, 64, 67, 0.3), 0px 1px 3px 1px rgba(60, 64, 67, 0.15);\n",
              "      fill: #174EA6;\n",
              "    }\n",
              "\n",
              "    .colab-df-buttons div {\n",
              "      margin-bottom: 4px;\n",
              "    }\n",
              "\n",
              "    [theme=dark] .colab-df-convert {\n",
              "      background-color: #3B4455;\n",
              "      fill: #D2E3FC;\n",
              "    }\n",
              "\n",
              "    [theme=dark] .colab-df-convert:hover {\n",
              "      background-color: #434B5C;\n",
              "      box-shadow: 0px 1px 3px 1px rgba(0, 0, 0, 0.15);\n",
              "      filter: drop-shadow(0px 1px 2px rgba(0, 0, 0, 0.3));\n",
              "      fill: #FFFFFF;\n",
              "    }\n",
              "  </style>\n",
              "\n",
              "    <script>\n",
              "      const buttonEl =\n",
              "        document.querySelector('#df-2a5a50c5-e8a0-4cd2-9d0e-6a35254c9d52 button.colab-df-convert');\n",
              "      buttonEl.style.display =\n",
              "        google.colab.kernel.accessAllowed ? 'block' : 'none';\n",
              "\n",
              "      async function convertToInteractive(key) {\n",
              "        const element = document.querySelector('#df-2a5a50c5-e8a0-4cd2-9d0e-6a35254c9d52');\n",
              "        const dataTable =\n",
              "          await google.colab.kernel.invokeFunction('convertToInteractive',\n",
              "                                                    [key], {});\n",
              "        if (!dataTable) return;\n",
              "\n",
              "        const docLinkHtml = 'Like what you see? Visit the ' +\n",
              "          '<a target=\"_blank\" href=https://colab.research.google.com/notebooks/data_table.ipynb>data table notebook</a>'\n",
              "          + ' to learn more about interactive tables.';\n",
              "        element.innerHTML = '';\n",
              "        dataTable['output_type'] = 'display_data';\n",
              "        await google.colab.output.renderOutput(dataTable, element);\n",
              "        const docLink = document.createElement('div');\n",
              "        docLink.innerHTML = docLinkHtml;\n",
              "        element.appendChild(docLink);\n",
              "      }\n",
              "    </script>\n",
              "  </div>\n",
              "\n",
              "\n",
              "<div id=\"df-b42a97cc-ffba-4823-bf3d-283a1424acb3\">\n",
              "  <button class=\"colab-df-quickchart\" onclick=\"quickchart('df-b42a97cc-ffba-4823-bf3d-283a1424acb3')\"\n",
              "            title=\"Suggest charts.\"\n",
              "            style=\"display:none;\">\n",
              "\n",
              "<svg xmlns=\"http://www.w3.org/2000/svg\" height=\"24px\"viewBox=\"0 0 24 24\"\n",
              "     width=\"24px\">\n",
              "    <g>\n",
              "        <path d=\"M19 3H5c-1.1 0-2 .9-2 2v14c0 1.1.9 2 2 2h14c1.1 0 2-.9 2-2V5c0-1.1-.9-2-2-2zM9 17H7v-7h2v7zm4 0h-2V7h2v10zm4 0h-2v-4h2v4z\"/>\n",
              "    </g>\n",
              "</svg>\n",
              "  </button>\n",
              "\n",
              "<style>\n",
              "  .colab-df-quickchart {\n",
              "      --bg-color: #E8F0FE;\n",
              "      --fill-color: #1967D2;\n",
              "      --hover-bg-color: #E2EBFA;\n",
              "      --hover-fill-color: #174EA6;\n",
              "      --disabled-fill-color: #AAA;\n",
              "      --disabled-bg-color: #DDD;\n",
              "  }\n",
              "\n",
              "  [theme=dark] .colab-df-quickchart {\n",
              "      --bg-color: #3B4455;\n",
              "      --fill-color: #D2E3FC;\n",
              "      --hover-bg-color: #434B5C;\n",
              "      --hover-fill-color: #FFFFFF;\n",
              "      --disabled-bg-color: #3B4455;\n",
              "      --disabled-fill-color: #666;\n",
              "  }\n",
              "\n",
              "  .colab-df-quickchart {\n",
              "    background-color: var(--bg-color);\n",
              "    border: none;\n",
              "    border-radius: 50%;\n",
              "    cursor: pointer;\n",
              "    display: none;\n",
              "    fill: var(--fill-color);\n",
              "    height: 32px;\n",
              "    padding: 0;\n",
              "    width: 32px;\n",
              "  }\n",
              "\n",
              "  .colab-df-quickchart:hover {\n",
              "    background-color: var(--hover-bg-color);\n",
              "    box-shadow: 0 1px 2px rgba(60, 64, 67, 0.3), 0 1px 3px 1px rgba(60, 64, 67, 0.15);\n",
              "    fill: var(--button-hover-fill-color);\n",
              "  }\n",
              "\n",
              "  .colab-df-quickchart-complete:disabled,\n",
              "  .colab-df-quickchart-complete:disabled:hover {\n",
              "    background-color: var(--disabled-bg-color);\n",
              "    fill: var(--disabled-fill-color);\n",
              "    box-shadow: none;\n",
              "  }\n",
              "\n",
              "  .colab-df-spinner {\n",
              "    border: 2px solid var(--fill-color);\n",
              "    border-color: transparent;\n",
              "    border-bottom-color: var(--fill-color);\n",
              "    animation:\n",
              "      spin 1s steps(1) infinite;\n",
              "  }\n",
              "\n",
              "  @keyframes spin {\n",
              "    0% {\n",
              "      border-color: transparent;\n",
              "      border-bottom-color: var(--fill-color);\n",
              "      border-left-color: var(--fill-color);\n",
              "    }\n",
              "    20% {\n",
              "      border-color: transparent;\n",
              "      border-left-color: var(--fill-color);\n",
              "      border-top-color: var(--fill-color);\n",
              "    }\n",
              "    30% {\n",
              "      border-color: transparent;\n",
              "      border-left-color: var(--fill-color);\n",
              "      border-top-color: var(--fill-color);\n",
              "      border-right-color: var(--fill-color);\n",
              "    }\n",
              "    40% {\n",
              "      border-color: transparent;\n",
              "      border-right-color: var(--fill-color);\n",
              "      border-top-color: var(--fill-color);\n",
              "    }\n",
              "    60% {\n",
              "      border-color: transparent;\n",
              "      border-right-color: var(--fill-color);\n",
              "    }\n",
              "    80% {\n",
              "      border-color: transparent;\n",
              "      border-right-color: var(--fill-color);\n",
              "      border-bottom-color: var(--fill-color);\n",
              "    }\n",
              "    90% {\n",
              "      border-color: transparent;\n",
              "      border-bottom-color: var(--fill-color);\n",
              "    }\n",
              "  }\n",
              "</style>\n",
              "\n",
              "  <script>\n",
              "    async function quickchart(key) {\n",
              "      const quickchartButtonEl =\n",
              "        document.querySelector('#' + key + ' button');\n",
              "      quickchartButtonEl.disabled = true;  // To prevent multiple clicks.\n",
              "      quickchartButtonEl.classList.add('colab-df-spinner');\n",
              "      try {\n",
              "        const charts = await google.colab.kernel.invokeFunction(\n",
              "            'suggestCharts', [key], {});\n",
              "      } catch (error) {\n",
              "        console.error('Error during call to suggestCharts:', error);\n",
              "      }\n",
              "      quickchartButtonEl.classList.remove('colab-df-spinner');\n",
              "      quickchartButtonEl.classList.add('colab-df-quickchart-complete');\n",
              "    }\n",
              "    (() => {\n",
              "      let quickchartButtonEl =\n",
              "        document.querySelector('#df-b42a97cc-ffba-4823-bf3d-283a1424acb3 button');\n",
              "      quickchartButtonEl.style.display =\n",
              "        google.colab.kernel.accessAllowed ? 'block' : 'none';\n",
              "    })();\n",
              "  </script>\n",
              "</div>\n",
              "    </div>\n",
              "  </div>\n"
            ],
            "text/plain": [
              "      age     sex     bmi  children smoker     region      charges\n",
              "0      19  female  27.900         0    yes  southwest  16884.92400\n",
              "1      18    male  33.770         1     no  southeast   1725.55230\n",
              "2      28    male  33.000         3     no  southeast   4449.46200\n",
              "3      33    male  22.705         0     no  northwest  21984.47061\n",
              "4      32    male  28.880         0     no  northwest   3866.85520\n",
              "...   ...     ...     ...       ...    ...        ...          ...\n",
              "1333   50    male  30.970         3     no  northwest  10600.54830\n",
              "1334   18  female  31.920         0     no  northeast   2205.98080\n",
              "1335   18  female  36.850         0     no  southeast   1629.83350\n",
              "1336   21  female  25.800         0     no  southwest   2007.94500\n",
              "1337   61  female  29.070         0    yes  northwest  29141.36030\n",
              "\n",
              "[1338 rows x 7 columns]"
            ]
          },
          "execution_count": 4,
          "metadata": {},
          "output_type": "execute_result"
        }
      ],
      "source": [
        "insurance = pd.read_csv('/content/gdrive/MyDrive/Colab_Notebooks/FITE3010-Assignment2/insurance.csv')\n",
        "insurance"
      ]
    },
    {
      "cell_type": "markdown",
      "metadata": {
        "id": "wSZd-3BwEVpk"
      },
      "source": [
        "**Initial Observation:** The insurance data given is quite a small data-set with only 1338 datapoints. There are a set of features describing the age, sex, bmi, children, smoker and reigion for each instance. This is all compared against the charges on the health insurance.\n"
      ]
    },
    {
      "cell_type": "markdown",
      "metadata": {
        "id": "x4-1HIj6AdCE"
      },
      "source": [
        "## Exploratory Data Analysis"
      ]
    },
    {
      "cell_type": "code",
      "execution_count": 5,
      "metadata": {
        "colab": {
          "base_uri": "https://localhost:8080/",
          "height": 206
        },
        "id": "iD7nvMTzAffY",
        "outputId": "86e070f5-e394-4b04-81ba-86d1154e9792"
      },
      "outputs": [
        {
          "data": {
            "text/html": [
              "\n",
              "  <div id=\"df-da30575b-f18e-40ef-ab54-3047c86c5948\" class=\"colab-df-container\">\n",
              "    <div>\n",
              "<style scoped>\n",
              "    .dataframe tbody tr th:only-of-type {\n",
              "        vertical-align: middle;\n",
              "    }\n",
              "\n",
              "    .dataframe tbody tr th {\n",
              "        vertical-align: top;\n",
              "    }\n",
              "\n",
              "    .dataframe thead th {\n",
              "        text-align: right;\n",
              "    }\n",
              "</style>\n",
              "<table border=\"1\" class=\"dataframe\">\n",
              "  <thead>\n",
              "    <tr style=\"text-align: right;\">\n",
              "      <th></th>\n",
              "      <th>age</th>\n",
              "      <th>bmi</th>\n",
              "      <th>children</th>\n",
              "      <th>charges</th>\n",
              "    </tr>\n",
              "  </thead>\n",
              "  <tbody>\n",
              "    <tr>\n",
              "      <th>0</th>\n",
              "      <td>19</td>\n",
              "      <td>27.900</td>\n",
              "      <td>0</td>\n",
              "      <td>16884.92400</td>\n",
              "    </tr>\n",
              "    <tr>\n",
              "      <th>1</th>\n",
              "      <td>18</td>\n",
              "      <td>33.770</td>\n",
              "      <td>1</td>\n",
              "      <td>1725.55230</td>\n",
              "    </tr>\n",
              "    <tr>\n",
              "      <th>2</th>\n",
              "      <td>28</td>\n",
              "      <td>33.000</td>\n",
              "      <td>3</td>\n",
              "      <td>4449.46200</td>\n",
              "    </tr>\n",
              "    <tr>\n",
              "      <th>3</th>\n",
              "      <td>33</td>\n",
              "      <td>22.705</td>\n",
              "      <td>0</td>\n",
              "      <td>21984.47061</td>\n",
              "    </tr>\n",
              "    <tr>\n",
              "      <th>4</th>\n",
              "      <td>32</td>\n",
              "      <td>28.880</td>\n",
              "      <td>0</td>\n",
              "      <td>3866.85520</td>\n",
              "    </tr>\n",
              "  </tbody>\n",
              "</table>\n",
              "</div>\n",
              "    <div class=\"colab-df-buttons\">\n",
              "\n",
              "  <div class=\"colab-df-container\">\n",
              "    <button class=\"colab-df-convert\" onclick=\"convertToInteractive('df-da30575b-f18e-40ef-ab54-3047c86c5948')\"\n",
              "            title=\"Convert this dataframe to an interactive table.\"\n",
              "            style=\"display:none;\">\n",
              "\n",
              "  <svg xmlns=\"http://www.w3.org/2000/svg\" height=\"24px\" viewBox=\"0 -960 960 960\">\n",
              "    <path d=\"M120-120v-720h720v720H120Zm60-500h600v-160H180v160Zm220 220h160v-160H400v160Zm0 220h160v-160H400v160ZM180-400h160v-160H180v160Zm440 0h160v-160H620v160ZM180-180h160v-160H180v160Zm440 0h160v-160H620v160Z\"/>\n",
              "  </svg>\n",
              "    </button>\n",
              "\n",
              "  <style>\n",
              "    .colab-df-container {\n",
              "      display:flex;\n",
              "      gap: 12px;\n",
              "    }\n",
              "\n",
              "    .colab-df-convert {\n",
              "      background-color: #E8F0FE;\n",
              "      border: none;\n",
              "      border-radius: 50%;\n",
              "      cursor: pointer;\n",
              "      display: none;\n",
              "      fill: #1967D2;\n",
              "      height: 32px;\n",
              "      padding: 0 0 0 0;\n",
              "      width: 32px;\n",
              "    }\n",
              "\n",
              "    .colab-df-convert:hover {\n",
              "      background-color: #E2EBFA;\n",
              "      box-shadow: 0px 1px 2px rgba(60, 64, 67, 0.3), 0px 1px 3px 1px rgba(60, 64, 67, 0.15);\n",
              "      fill: #174EA6;\n",
              "    }\n",
              "\n",
              "    .colab-df-buttons div {\n",
              "      margin-bottom: 4px;\n",
              "    }\n",
              "\n",
              "    [theme=dark] .colab-df-convert {\n",
              "      background-color: #3B4455;\n",
              "      fill: #D2E3FC;\n",
              "    }\n",
              "\n",
              "    [theme=dark] .colab-df-convert:hover {\n",
              "      background-color: #434B5C;\n",
              "      box-shadow: 0px 1px 3px 1px rgba(0, 0, 0, 0.15);\n",
              "      filter: drop-shadow(0px 1px 2px rgba(0, 0, 0, 0.3));\n",
              "      fill: #FFFFFF;\n",
              "    }\n",
              "  </style>\n",
              "\n",
              "    <script>\n",
              "      const buttonEl =\n",
              "        document.querySelector('#df-da30575b-f18e-40ef-ab54-3047c86c5948 button.colab-df-convert');\n",
              "      buttonEl.style.display =\n",
              "        google.colab.kernel.accessAllowed ? 'block' : 'none';\n",
              "\n",
              "      async function convertToInteractive(key) {\n",
              "        const element = document.querySelector('#df-da30575b-f18e-40ef-ab54-3047c86c5948');\n",
              "        const dataTable =\n",
              "          await google.colab.kernel.invokeFunction('convertToInteractive',\n",
              "                                                    [key], {});\n",
              "        if (!dataTable) return;\n",
              "\n",
              "        const docLinkHtml = 'Like what you see? Visit the ' +\n",
              "          '<a target=\"_blank\" href=https://colab.research.google.com/notebooks/data_table.ipynb>data table notebook</a>'\n",
              "          + ' to learn more about interactive tables.';\n",
              "        element.innerHTML = '';\n",
              "        dataTable['output_type'] = 'display_data';\n",
              "        await google.colab.output.renderOutput(dataTable, element);\n",
              "        const docLink = document.createElement('div');\n",
              "        docLink.innerHTML = docLinkHtml;\n",
              "        element.appendChild(docLink);\n",
              "      }\n",
              "    </script>\n",
              "  </div>\n",
              "\n",
              "\n",
              "<div id=\"df-e5aae0e4-ce86-4f8f-b875-ad106d88d179\">\n",
              "  <button class=\"colab-df-quickchart\" onclick=\"quickchart('df-e5aae0e4-ce86-4f8f-b875-ad106d88d179')\"\n",
              "            title=\"Suggest charts.\"\n",
              "            style=\"display:none;\">\n",
              "\n",
              "<svg xmlns=\"http://www.w3.org/2000/svg\" height=\"24px\"viewBox=\"0 0 24 24\"\n",
              "     width=\"24px\">\n",
              "    <g>\n",
              "        <path d=\"M19 3H5c-1.1 0-2 .9-2 2v14c0 1.1.9 2 2 2h14c1.1 0 2-.9 2-2V5c0-1.1-.9-2-2-2zM9 17H7v-7h2v7zm4 0h-2V7h2v10zm4 0h-2v-4h2v4z\"/>\n",
              "    </g>\n",
              "</svg>\n",
              "  </button>\n",
              "\n",
              "<style>\n",
              "  .colab-df-quickchart {\n",
              "      --bg-color: #E8F0FE;\n",
              "      --fill-color: #1967D2;\n",
              "      --hover-bg-color: #E2EBFA;\n",
              "      --hover-fill-color: #174EA6;\n",
              "      --disabled-fill-color: #AAA;\n",
              "      --disabled-bg-color: #DDD;\n",
              "  }\n",
              "\n",
              "  [theme=dark] .colab-df-quickchart {\n",
              "      --bg-color: #3B4455;\n",
              "      --fill-color: #D2E3FC;\n",
              "      --hover-bg-color: #434B5C;\n",
              "      --hover-fill-color: #FFFFFF;\n",
              "      --disabled-bg-color: #3B4455;\n",
              "      --disabled-fill-color: #666;\n",
              "  }\n",
              "\n",
              "  .colab-df-quickchart {\n",
              "    background-color: var(--bg-color);\n",
              "    border: none;\n",
              "    border-radius: 50%;\n",
              "    cursor: pointer;\n",
              "    display: none;\n",
              "    fill: var(--fill-color);\n",
              "    height: 32px;\n",
              "    padding: 0;\n",
              "    width: 32px;\n",
              "  }\n",
              "\n",
              "  .colab-df-quickchart:hover {\n",
              "    background-color: var(--hover-bg-color);\n",
              "    box-shadow: 0 1px 2px rgba(60, 64, 67, 0.3), 0 1px 3px 1px rgba(60, 64, 67, 0.15);\n",
              "    fill: var(--button-hover-fill-color);\n",
              "  }\n",
              "\n",
              "  .colab-df-quickchart-complete:disabled,\n",
              "  .colab-df-quickchart-complete:disabled:hover {\n",
              "    background-color: var(--disabled-bg-color);\n",
              "    fill: var(--disabled-fill-color);\n",
              "    box-shadow: none;\n",
              "  }\n",
              "\n",
              "  .colab-df-spinner {\n",
              "    border: 2px solid var(--fill-color);\n",
              "    border-color: transparent;\n",
              "    border-bottom-color: var(--fill-color);\n",
              "    animation:\n",
              "      spin 1s steps(1) infinite;\n",
              "  }\n",
              "\n",
              "  @keyframes spin {\n",
              "    0% {\n",
              "      border-color: transparent;\n",
              "      border-bottom-color: var(--fill-color);\n",
              "      border-left-color: var(--fill-color);\n",
              "    }\n",
              "    20% {\n",
              "      border-color: transparent;\n",
              "      border-left-color: var(--fill-color);\n",
              "      border-top-color: var(--fill-color);\n",
              "    }\n",
              "    30% {\n",
              "      border-color: transparent;\n",
              "      border-left-color: var(--fill-color);\n",
              "      border-top-color: var(--fill-color);\n",
              "      border-right-color: var(--fill-color);\n",
              "    }\n",
              "    40% {\n",
              "      border-color: transparent;\n",
              "      border-right-color: var(--fill-color);\n",
              "      border-top-color: var(--fill-color);\n",
              "    }\n",
              "    60% {\n",
              "      border-color: transparent;\n",
              "      border-right-color: var(--fill-color);\n",
              "    }\n",
              "    80% {\n",
              "      border-color: transparent;\n",
              "      border-right-color: var(--fill-color);\n",
              "      border-bottom-color: var(--fill-color);\n",
              "    }\n",
              "    90% {\n",
              "      border-color: transparent;\n",
              "      border-bottom-color: var(--fill-color);\n",
              "    }\n",
              "  }\n",
              "</style>\n",
              "\n",
              "  <script>\n",
              "    async function quickchart(key) {\n",
              "      const quickchartButtonEl =\n",
              "        document.querySelector('#' + key + ' button');\n",
              "      quickchartButtonEl.disabled = true;  // To prevent multiple clicks.\n",
              "      quickchartButtonEl.classList.add('colab-df-spinner');\n",
              "      try {\n",
              "        const charts = await google.colab.kernel.invokeFunction(\n",
              "            'suggestCharts', [key], {});\n",
              "      } catch (error) {\n",
              "        console.error('Error during call to suggestCharts:', error);\n",
              "      }\n",
              "      quickchartButtonEl.classList.remove('colab-df-spinner');\n",
              "      quickchartButtonEl.classList.add('colab-df-quickchart-complete');\n",
              "    }\n",
              "    (() => {\n",
              "      let quickchartButtonEl =\n",
              "        document.querySelector('#df-e5aae0e4-ce86-4f8f-b875-ad106d88d179 button');\n",
              "      quickchartButtonEl.style.display =\n",
              "        google.colab.kernel.accessAllowed ? 'block' : 'none';\n",
              "    })();\n",
              "  </script>\n",
              "</div>\n",
              "    </div>\n",
              "  </div>\n"
            ],
            "text/plain": [
              "   age     bmi  children      charges\n",
              "0   19  27.900         0  16884.92400\n",
              "1   18  33.770         1   1725.55230\n",
              "2   28  33.000         3   4449.46200\n",
              "3   33  22.705         0  21984.47061\n",
              "4   32  28.880         0   3866.85520"
            ]
          },
          "execution_count": 5,
          "metadata": {},
          "output_type": "execute_result"
        }
      ],
      "source": [
        "# choosing 3 features only as suggested and dropping other columns\n",
        "insurance = insurance.drop(columns=['sex', 'smoker', 'region'])\n",
        "insurance.head()"
      ]
    },
    {
      "cell_type": "code",
      "execution_count": 6,
      "metadata": {
        "colab": {
          "base_uri": "https://localhost:8080/",
          "height": 286
        },
        "id": "aebH9ZupAqOX",
        "outputId": "f2e82aa2-ac59-4f04-c85a-b347c58da740"
      },
      "outputs": [
        {
          "data": {
            "text/html": [
              "<style type=\"text/css\">\n",
              "#T_b115c th {\n",
              "  background-color: k;\n",
              "}\n",
              "#T_b115c_row0_col0 {\n",
              "  background-color: #b73779;\n",
              "  color: #f1f1f1;\n",
              "  text-align: center;\n",
              "}\n",
              "#T_b115c_row0_col1 {\n",
              "  background-color: #bf3a77;\n",
              "  color: #f1f1f1;\n",
              "  text-align: center;\n",
              "}\n",
              "#T_b115c_row0_col2 {\n",
              "  background-color: #440f76;\n",
              "  color: #f1f1f1;\n",
              "  text-align: center;\n",
              "}\n",
              "#T_b115c_row0_col3 {\n",
              "  background-color: #38106c;\n",
              "  color: #f1f1f1;\n",
              "  text-align: center;\n",
              "}\n",
              "#T_b115c_row1_col0, #T_b115c_row1_col1, #T_b115c_row2_col2, #T_b115c_row2_col3, #T_b115c_row3_col2 {\n",
              "  background-color: #000004;\n",
              "  color: #f1f1f1;\n",
              "  text-align: center;\n",
              "}\n",
              "#T_b115c_row1_col2 {\n",
              "  background-color: #4c117a;\n",
              "  color: #f1f1f1;\n",
              "  text-align: center;\n",
              "}\n",
              "#T_b115c_row1_col3 {\n",
              "  background-color: #2f1163;\n",
              "  color: #f1f1f1;\n",
              "  text-align: center;\n",
              "}\n",
              "#T_b115c_row2_col0 {\n",
              "  background-color: #0e0b2b;\n",
              "  color: #f1f1f1;\n",
              "  text-align: center;\n",
              "}\n",
              "#T_b115c_row2_col1 {\n",
              "  background-color: #3f0f72;\n",
              "  color: #f1f1f1;\n",
              "  text-align: center;\n",
              "}\n",
              "#T_b115c_row3_col0 {\n",
              "  background-color: #54137d;\n",
              "  color: #f1f1f1;\n",
              "  text-align: center;\n",
              "}\n",
              "#T_b115c_row3_col1 {\n",
              "  background-color: #982d80;\n",
              "  color: #f1f1f1;\n",
              "  text-align: center;\n",
              "}\n",
              "#T_b115c_row3_col3 {\n",
              "  background-color: #08071e;\n",
              "  color: #f1f1f1;\n",
              "  text-align: center;\n",
              "}\n",
              "#T_b115c_row4_col0 {\n",
              "  background-color: #b5367a;\n",
              "  color: #f1f1f1;\n",
              "  text-align: center;\n",
              "}\n",
              "#T_b115c_row4_col1 {\n",
              "  background-color: #bd3977;\n",
              "  color: #f1f1f1;\n",
              "  text-align: center;\n",
              "}\n",
              "#T_b115c_row4_col2 {\n",
              "  background-color: #3b0f70;\n",
              "  color: #f1f1f1;\n",
              "  text-align: center;\n",
              "}\n",
              "#T_b115c_row4_col3 {\n",
              "  background-color: #1e1149;\n",
              "  color: #f1f1f1;\n",
              "  text-align: center;\n",
              "}\n",
              "#T_b115c_row5_col0 {\n",
              "  background-color: #fb835f;\n",
              "  color: #f1f1f1;\n",
              "  text-align: center;\n",
              "}\n",
              "#T_b115c_row5_col1 {\n",
              "  background-color: #e04c67;\n",
              "  color: #f1f1f1;\n",
              "  text-align: center;\n",
              "}\n",
              "#T_b115c_row5_col2 {\n",
              "  background-color: #8c2981;\n",
              "  color: #f1f1f1;\n",
              "  text-align: center;\n",
              "}\n",
              "#T_b115c_row5_col3 {\n",
              "  background-color: #4f127b;\n",
              "  color: #f1f1f1;\n",
              "  text-align: center;\n",
              "}\n",
              "#T_b115c_row6_col0, #T_b115c_row6_col1, #T_b115c_row6_col2, #T_b115c_row6_col3 {\n",
              "  background-color: #fcfdbf;\n",
              "  color: #000000;\n",
              "  text-align: center;\n",
              "}\n",
              "</style>\n",
              "<table id=\"T_b115c\" class=\"dataframe\">\n",
              "  <caption>Summary Statistics</caption>\n",
              "  <thead>\n",
              "    <tr>\n",
              "      <th class=\"blank level0\" >&nbsp;</th>\n",
              "      <th id=\"T_b115c_level0_col0\" class=\"col_heading level0 col0\" >age</th>\n",
              "      <th id=\"T_b115c_level0_col1\" class=\"col_heading level0 col1\" >bmi</th>\n",
              "      <th id=\"T_b115c_level0_col2\" class=\"col_heading level0 col2\" >children</th>\n",
              "      <th id=\"T_b115c_level0_col3\" class=\"col_heading level0 col3\" >charges</th>\n",
              "    </tr>\n",
              "  </thead>\n",
              "  <tbody>\n",
              "    <tr>\n",
              "      <th id=\"T_b115c_level0_row0\" class=\"row_heading level0 row0\" >mean</th>\n",
              "      <td id=\"T_b115c_row0_col0\" class=\"data row0 col0\" >39.207025</td>\n",
              "      <td id=\"T_b115c_row0_col1\" class=\"data row0 col1\" >30.663397</td>\n",
              "      <td id=\"T_b115c_row0_col2\" class=\"data row0 col2\" >1.094918</td>\n",
              "      <td id=\"T_b115c_row0_col3\" class=\"data row0 col3\" >13270.422265</td>\n",
              "    </tr>\n",
              "    <tr>\n",
              "      <th id=\"T_b115c_level0_row1\" class=\"row_heading level0 row1\" >std</th>\n",
              "      <td id=\"T_b115c_row1_col0\" class=\"data row1 col0\" >14.049960</td>\n",
              "      <td id=\"T_b115c_row1_col1\" class=\"data row1 col1\" >6.098187</td>\n",
              "      <td id=\"T_b115c_row1_col2\" class=\"data row1 col2\" >1.205493</td>\n",
              "      <td id=\"T_b115c_row1_col3\" class=\"data row1 col3\" >12110.011237</td>\n",
              "    </tr>\n",
              "    <tr>\n",
              "      <th id=\"T_b115c_level0_row2\" class=\"row_heading level0 row2\" >min</th>\n",
              "      <td id=\"T_b115c_row2_col0\" class=\"data row2 col0\" >18.000000</td>\n",
              "      <td id=\"T_b115c_row2_col1\" class=\"data row2 col1\" >15.960000</td>\n",
              "      <td id=\"T_b115c_row2_col2\" class=\"data row2 col2\" >0.000000</td>\n",
              "      <td id=\"T_b115c_row2_col3\" class=\"data row2 col3\" >1121.873900</td>\n",
              "    </tr>\n",
              "    <tr>\n",
              "      <th id=\"T_b115c_level0_row3\" class=\"row_heading level0 row3\" >25%</th>\n",
              "      <td id=\"T_b115c_row3_col0\" class=\"data row3 col0\" >27.000000</td>\n",
              "      <td id=\"T_b115c_row3_col1\" class=\"data row3 col1\" >26.296250</td>\n",
              "      <td id=\"T_b115c_row3_col2\" class=\"data row3 col2\" >0.000000</td>\n",
              "      <td id=\"T_b115c_row3_col3\" class=\"data row3 col3\" >4740.287150</td>\n",
              "    </tr>\n",
              "    <tr>\n",
              "      <th id=\"T_b115c_level0_row4\" class=\"row_heading level0 row4\" >50%</th>\n",
              "      <td id=\"T_b115c_row4_col0\" class=\"data row4 col0\" >39.000000</td>\n",
              "      <td id=\"T_b115c_row4_col1\" class=\"data row4 col1\" >30.400000</td>\n",
              "      <td id=\"T_b115c_row4_col2\" class=\"data row4 col2\" >1.000000</td>\n",
              "      <td id=\"T_b115c_row4_col3\" class=\"data row4 col3\" >9382.033000</td>\n",
              "    </tr>\n",
              "    <tr>\n",
              "      <th id=\"T_b115c_level0_row5\" class=\"row_heading level0 row5\" >75%</th>\n",
              "      <td id=\"T_b115c_row5_col0\" class=\"data row5 col0\" >51.000000</td>\n",
              "      <td id=\"T_b115c_row5_col1\" class=\"data row5 col1\" >34.693750</td>\n",
              "      <td id=\"T_b115c_row5_col2\" class=\"data row5 col2\" >2.000000</td>\n",
              "      <td id=\"T_b115c_row5_col3\" class=\"data row5 col3\" >16639.912515</td>\n",
              "    </tr>\n",
              "    <tr>\n",
              "      <th id=\"T_b115c_level0_row6\" class=\"row_heading level0 row6\" >max</th>\n",
              "      <td id=\"T_b115c_row6_col0\" class=\"data row6 col0\" >64.000000</td>\n",
              "      <td id=\"T_b115c_row6_col1\" class=\"data row6 col1\" >53.130000</td>\n",
              "      <td id=\"T_b115c_row6_col2\" class=\"data row6 col2\" >5.000000</td>\n",
              "      <td id=\"T_b115c_row6_col3\" class=\"data row6 col3\" >63770.428010</td>\n",
              "    </tr>\n",
              "  </tbody>\n",
              "</table>\n"
            ],
            "text/plain": [
              "<pandas.io.formats.style.Styler at 0x7f138b288130>"
            ]
          },
          "execution_count": 6,
          "metadata": {},
          "output_type": "execute_result"
        }
      ],
      "source": [
        "# getting general statistics\n",
        "styled_data = (\n",
        "    insurance.describe()\n",
        "    .drop(\"count\", axis=0)\n",
        "    .style.background_gradient(axis=0, cmap=\"magma\")\n",
        "    .set_properties(**{\"text-align\": \"center\"})\n",
        "    .set_table_styles([{\"selector\": \"th\", \"props\": [(\"background-color\", \"k\")]}])\n",
        "    .set_caption(\"Summary Statistics\")\n",
        ")\n",
        "\n",
        "styled_data"
      ]
    },
    {
      "cell_type": "code",
      "execution_count": 7,
      "metadata": {
        "colab": {
          "base_uri": "https://localhost:8080/"
        },
        "id": "EotmSJF0AytX",
        "outputId": "a06e5d40-85c6-497b-de0f-3b6e58b24011"
      },
      "outputs": [
        {
          "name": "stdout",
          "output_type": "stream",
          "text": [
            "Number of columns: 4 columns\n",
            "Number of rows: 1338 rows\n"
          ]
        }
      ],
      "source": [
        "n, m = insurance.shape\n",
        "print(f\"Number of columns: {m} columns\\nNumber of rows: {n} rows\")"
      ]
    },
    {
      "cell_type": "code",
      "execution_count": 8,
      "metadata": {
        "colab": {
          "base_uri": "https://localhost:8080/"
        },
        "id": "jrUz88EvA05u",
        "outputId": "6647bfaf-cdfa-49d4-c6a6-0c4bbb7ef93d"
      },
      "outputs": [
        {
          "name": "stdout",
          "output_type": "stream",
          "text": [
            "<class 'pandas.core.frame.DataFrame'>\n",
            "RangeIndex: 1338 entries, 0 to 1337\n",
            "Data columns (total 4 columns):\n",
            " #   Column    Non-Null Count  Dtype  \n",
            "---  ------    --------------  -----  \n",
            " 0   age       1338 non-null   int64  \n",
            " 1   bmi       1338 non-null   float64\n",
            " 2   children  1338 non-null   int64  \n",
            " 3   charges   1338 non-null   float64\n",
            "dtypes: float64(2), int64(2)\n",
            "memory usage: 41.9 KB\n"
          ]
        }
      ],
      "source": [
        "# checking for datatypes\n",
        "insurance.info()"
      ]
    },
    {
      "cell_type": "code",
      "execution_count": 9,
      "metadata": {
        "colab": {
          "base_uri": "https://localhost:8080/"
        },
        "id": "-5LUxJD5A2Xt",
        "outputId": "67258760-d808-4304-861d-a2a175ff7b16"
      },
      "outputs": [
        {
          "data": {
            "text/plain": [
              "age         0\n",
              "bmi         0\n",
              "children    0\n",
              "charges     0\n",
              "dtype: int64"
            ]
          },
          "execution_count": 9,
          "metadata": {},
          "output_type": "execute_result"
        }
      ],
      "source": [
        "# checking for null values\n",
        "insurance.isnull().sum()"
      ]
    },
    {
      "cell_type": "code",
      "execution_count": 10,
      "metadata": {
        "colab": {
          "base_uri": "https://localhost:8080/",
          "height": 391
        },
        "id": "F2P5NvDBA39y",
        "outputId": "b5e51a81-b85a-4d4a-db26-999176dfed4a"
      },
      "outputs": [
        {
          "data": {
            "image/png": "[encoded data removed]",
            "text/plain": [
              "<Figure size 1200x400 with 1 Axes>"
            ]
          },
          "metadata": {},
          "output_type": "display_data"
        }
      ],
      "source": [
        "# Visualising any missing values for counter check purposes\n",
        "plt.figure(figsize=(12,4))\n",
        "sns.heatmap(insurance.isnull(),cbar=False,cmap='viridis',yticklabels=False)\n",
        "plt.title('Missing value in the dataset');"
      ]
    },
    {
      "cell_type": "markdown",
      "metadata": {
        "id": "oGFK9d7RFzBG"
      },
      "source": [
        "There is no missing value in the data sex"
      ]
    },
    {
      "cell_type": "code",
      "execution_count": 11,
      "metadata": {
        "colab": {
          "base_uri": "https://localhost:8080/",
          "height": 435
        },
        "id": "E2ApklZRA6JH",
        "outputId": "935534db-7bb4-4e28-8976-680afb10037f"
      },
      "outputs": [
        {
          "data": {
            "image/png": "[encoded data removed]",
            "text/plain": [
              "<Figure size 640x480 with 2 Axes>"
            ]
          },
          "metadata": {},
          "output_type": "display_data"
        }
      ],
      "source": [
        "# correlation plot\n",
        "corr = insurance.corr()\n",
        "sns.heatmap(corr, annot= True);"
      ]
    },
    {
      "cell_type": "markdown",
      "metadata": {
        "id": "mg0P30bbIQbG"
      },
      "source": [
        "We don't see any extra-ordinary co-relation of age, bmi, children with charges."
      ]
    },
    {
      "cell_type": "code",
      "execution_count": 12,
      "metadata": {
        "colab": {
          "base_uri": "https://localhost:8080/",
          "height": 417
        },
        "id": "GdLYFXVIA83n",
        "outputId": "d2671082-25b7-4671-f92b-2e875fc9fb78"
      },
      "outputs": [
        {
          "data": {
            "image/png": "[encoded data removed]",
            "text/plain": [
              "<Figure size 1200x400 with 2 Axes>"
            ]
          },
          "metadata": {},
          "output_type": "display_data"
        }
      ],
      "source": [
        "f= plt.figure(figsize=(12,4))\n",
        "\n",
        "ax=f.add_subplot(121)\n",
        "sns.distplot(insurance['charges'],bins=40,color='r',ax=ax)\n",
        "ax.set_title('Distribution of insurance charges')\n",
        "\n",
        "ax=f.add_subplot(122)\n",
        "sns.distplot(np.log(insurance['charges']),bins=40,color='b',ax=ax)\n",
        "ax.set_title('Distribution of insurance charges in $log$ sacle')\n",
        "ax.set_xscale('log');"
      ]
    },
    {
      "cell_type": "markdown",
      "metadata": {
        "id": "dTpJSyUVGdrx"
      },
      "source": [
        "The distribution of the charges shows a the data is positively skewed. When the log is taken, the data looks much better."
      ]
    },
    {
      "cell_type": "code",
      "execution_count": 13,
      "metadata": {
        "colab": {
          "base_uri": "https://localhost:8080/",
          "height": 428
        },
        "id": "idODysPnBAue",
        "outputId": "9b59706a-f17b-4d45-e451-b58f50c31641"
      },
      "outputs": [
        {
          "data": {
            "text/plain": [
              "Text(0.5, 1.0, 'Distribution of bmi')"
            ]
          },
          "execution_count": 13,
          "metadata": {},
          "output_type": "execute_result"
        },
        {
          "data": {
            "image/png": "[encoded data removed]",
            "text/plain": [
              "<Figure size 1200x400 with 1 Axes>"
            ]
          },
          "metadata": {},
          "output_type": "display_data"
        }
      ],
      "source": [
        "f= plt.figure(figsize=(12,4))\n",
        "\n",
        "ax=f.add_subplot(121)\n",
        "sns.distplot(insurance['bmi'],bins=40,color='r',ax=ax)\n",
        "ax.set_title('Distribution of bmi')"
      ]
    },
    {
      "cell_type": "code",
      "execution_count": 14,
      "metadata": {
        "colab": {
          "base_uri": "https://localhost:8080/",
          "height": 448
        },
        "id": "vuihyMuOBCjp",
        "outputId": "05389dc7-6550-423a-dd90-e31c357f73c8"
      },
      "outputs": [
        {
          "data": {
            "text/plain": [
              "<BarContainer object of 1338 artists>"
            ]
          },
          "execution_count": 14,
          "metadata": {},
          "output_type": "execute_result"
        },
        {
          "data": {
            "image/png": "[encoded data removed]",
            "text/plain": [
              "<Figure size 640x480 with 1 Axes>"
            ]
          },
          "metadata": {},
          "output_type": "display_data"
        }
      ],
      "source": [
        "plt.bar(insurance['children'],insurance['charges'])"
      ]
    },
    {
      "cell_type": "markdown",
      "metadata": {
        "id": "n2V_-S2bI0PX"
      },
      "source": [
        "# Processing Data and Feature Scaling"
      ]
    },
    {
      "cell_type": "code",
      "execution_count": 15,
      "metadata": {
        "id": "uPTcgzh7BL6s"
      },
      "outputs": [],
      "source": [
        "X = insurance[['age', 'bmi', 'children']].values\n",
        "y = insurance['charges'].values"
      ]
    },
    {
      "cell_type": "code",
      "execution_count": 16,
      "metadata": {
        "colab": {
          "base_uri": "https://localhost:8080/"
        },
        "id": "M7tpAPKOBYlC",
        "outputId": "6f2395e8-6f39-4348-83cf-a9a4035fdd0f"
      },
      "outputs": [
        {
          "data": {
            "text/plain": [
              "array([[-1.43876426, -0.45332   , -0.90861367],\n",
              "       [-1.50996545,  0.5096211 , -0.07876719],\n",
              "       [-0.79795355,  0.38330685,  1.58092576],\n",
              "       ...,\n",
              "       [-1.50996545,  1.0148781 , -0.90861367],\n",
              "       [-1.29636188, -0.79781341, -0.90861367],\n",
              "       [ 1.55168573, -0.26138796, -0.90861367]])"
            ]
          },
          "execution_count": 16,
          "metadata": {},
          "output_type": "execute_result"
        }
      ],
      "source": [
        "# Normalize the features to make sure features are on a similar scale\n",
        "X = (X - np.mean(X, axis=0)) / np.std(X, axis=0)\n",
        "X"
      ]
    },
    {
      "cell_type": "code",
      "execution_count": 17,
      "metadata": {
        "colab": {
          "base_uri": "https://localhost:8080/"
        },
        "id": "VqHHNp5XBf7F",
        "outputId": "a5d1ca40-c12f-45f5-ace6-4fd773edaa6f"
      },
      "outputs": [
        {
          "data": {
            "text/plain": [
              "array([ 9.73417643,  7.45330245,  8.40053847, ...,  7.39623314,\n",
              "        7.60486709, 10.27991376])"
            ]
          },
          "execution_count": 17,
          "metadata": {},
          "output_type": "execute_result"
        }
      ],
      "source": [
        "# changing to log scale as we saw earlier that log scale showed a kind of normal distribution\n",
        "y = np.log(y)\n",
        "y"
      ]
    },
    {
      "cell_type": "markdown",
      "metadata": {
        "id": "0Ul3XiPsLMbp"
      },
      "source": []
    },
    {
      "cell_type": "markdown",
      "metadata": {
        "id": "229BFXyvKfR9"
      },
      "source": [
        "# How Gradient Descent Works\n",
        "\n",
        "\n",
        " As we have more that one variables, we will use **Gradient Descent for Multivariate Linear Regression** where we will use $\\mathbf{x_{ij}}$ to denote indepedent variable and $\\mathbf{y_{i}}$ to denote dependent variable. In general, if we have $\\mathbf{n}$ independent variable then $\\mathbf{j=1,2,3 ..... n}$. The hypothesis function represented as\n",
        "\n",
        "$$\\mathbf{h_\\theta(x_{i}) = \\theta_0 + \\theta_1x_{i1} + \\theta_2 x_{i2} + ..... \\theta_j x_{ij} ...... \\theta_n  x_{mn} }$$\n",
        "$\\mathbf{\\theta_0,\\theta_1,....\\theta_j....\\theta_n }$ are parameter of hypothesis,\n",
        "$\\mathbf{m}$ Number of training exaples,\n",
        "$\\mathbf{n}$ Number of independent variable,\n",
        "$\\mathbf{x_{ij}}$ is $\\mathbf{i^{th}}$ training exaple of $\\mathbf{j^{th}}$ feature.\n",
        "\n",
        "\n",
        "In our dataset, when we look at the shape of dataset it has return as (1338,4).So there are $\\mathbf{m=1338}$ training exaple and $\\mathbf{n=4}$ independent variable. The target variable here is charges and remaining 3 variables such as age, bmi, children are independent variable. Then the hypothesis function looks like\n",
        "\n",
        "$$\\mathbf{ h_\\theta(x_{i}) = \\theta_0+\\theta_1 age + \\theta_2 bmi + \\theta_3 children }$$\n",
        "\n",
        "We start with guesses for the $\\theta$ parameters and further use iterations to calculate the actual approximate values. To achieve this we use the cost function which evaluates the quality of the fit $$J(\\theta) = \\frac{1}{2m}\\sum_{i=1}^{m}(h_{\\theta}(x) - y)^{2}$$\n",
        "If the fit of the model is perfect, $h_{\\theta}(x)$ will be the same as $y$ and so $J(\\theta)$ (the cost) will be $0$. Any deviation from this perfect fit will increase the cost as the difference between the calculated and actual y value is squared. If we take the partial derivative of the cost function with respect to each parameter at a time.\n",
        "$$\\frac{\\partial J}{\\partial \\theta_{0}} = \\frac{1}{m}\\sum_{i=1}^{m}((\\theta_{1}x + \\theta_{0}) - y)^{2}$$\n",
        "$$\\frac{\\partial J}{\\partial \\theta_{1}} = \\frac{1}{m}\\sum_{i=1}^{m}((\\theta_{1}x + \\theta_{0}) - y)^{2}x$$\n",
        "We find the slope of the cost function for any set of values of the parameters. Our aim is to change the parameters to reduce this slope to 0 (the minima) and in so doing, minimize $J(\\theta)$.\n"
      ]
    },
    {
      "cell_type": "code",
      "execution_count": 18,
      "metadata": {
        "id": "ZleX6iu0BkTk"
      },
      "outputs": [],
      "source": [
        "def compute_cost(m, h, y):\n",
        "    return (1 / (2 * m)) * np.sum(np.square(h - y))\n",
        "\n",
        "def gradient_descent(X, y, learning_rate, epochs):\n",
        "    m, n = X.shape  # m: number of samples, n: number of features\n",
        "    ones = np.ones((m, 1))  # for setting first theta_1 as 1's\n",
        "    X = np.concatenate((ones, X), axis=1)  # New X with X0's = 1\n",
        "    n += 1  # increase n for the added intercept term\n",
        "    theta = np.ones(n)  # parameter initialization / guessing with 1's\n",
        "    h = np.dot(X, theta)  # Compute hypothesis\n",
        "\n",
        "    cost = np.ones(epochs)\n",
        "    for epoch in range(epochs):\n",
        "        theta[0] -= (learning_rate / m) * np.sum(h - y)\n",
        "        for j in range(1, n):\n",
        "            theta[j] -= (learning_rate / m) * np.sum((h - y) * X[:, j])\n",
        "        h = np.dot(X, theta)\n",
        "        cost[epoch] = compute_cost(m, h, y)\n",
        "\n",
        "    return cost, theta"
      ]
    },
    {
      "cell_type": "markdown",
      "metadata": {
        "id": "WP9Wu9NpTIwa"
      },
      "source": [
        "## Tuning Parameters to get the best loss curve possible"
      ]
    },
    {
      "cell_type": "markdown",
      "metadata": {
        "id": "fUN3MXHOTsjD"
      },
      "source": [
        "### With Learning Rate of 0.001"
      ]
    },
    {
      "cell_type": "code",
      "execution_count": 27,
      "metadata": {
        "colab": {
          "base_uri": "https://localhost:8080/"
        },
        "id": "DFdDCCIJTAPJ",
        "outputId": "9f92307e-1bb7-415c-8249-3cd2cffd9c8e"
      },
      "outputs": [
        {
          "name": "stdout",
          "output_type": "stream",
          "text": [
            "[8.00372067 0.50811595 0.18005831 0.23780035]\n"
          ]
        }
      ],
      "source": [
        "# Calculating theta and cost\n",
        "learning_rate = 0.001\n",
        "itr = 2000\n",
        "cost, theta = gradient_descent(X, y, learning_rate, itr)\n",
        "print(theta)"
      ]
    },
    {
      "cell_type": "code",
      "execution_count": 28,
      "metadata": {
        "colab": {
          "base_uri": "https://localhost:8080/",
          "height": 486
        },
        "id": "4iLs-y9OTBuc",
        "outputId": "1f899cd1-f0c4-4603-943b-ae76c3cb20d2"
      },
      "outputs": [
        {
          "data": {
            "image/png": "[encoded data removed]",
            "text/plain": [
              "<Figure size 640x480 with 1 Axes>"
            ]
          },
          "metadata": {},
          "output_type": "display_data"
        },
        {
          "name": "stdout",
          "output_type": "stream",
          "text": [
            "Lowest cost =0.9073961277380614\n",
            " Cost after 2000 iterations = 0.9073961277380614\n"
          ]
        }
      ],
      "source": [
        "# Checking out the loss or cost plot\n",
        "plt.plot(cost)\n",
        "plt.xlabel(\"Epoch (number of iteration)\")\n",
        "plt.ylabel( \"Cost or Loss\")\n",
        "plt.show()\n",
        "print(\"Lowest cost =\" + str(np.min(cost)))\n",
        "print(\" Cost after 2000 iterations = \" + str(cost[-1]))"
      ]
    },
    {
      "cell_type": "markdown",
      "metadata": {
        "id": "iy6cc0wNTzdZ"
      },
      "source": [
        "### With Learning Rate of 0.01"
      ]
    },
    {
      "cell_type": "code",
      "execution_count": 29,
      "metadata": {
        "colab": {
          "base_uri": "https://localhost:8080/"
        },
        "id": "P3g5jR1STgzP",
        "outputId": "043c6e5e-5125-4358-840a-06f8144b07c7"
      },
      "outputs": [
        {
          "name": "stdout",
          "output_type": "stream",
          "text": [
            "[9.09865871 0.47225832 0.06871792 0.12736459]\n"
          ]
        }
      ],
      "source": [
        "# Calculating theta and cost\n",
        "learning_rate = 0.01\n",
        "itr = 2000\n",
        "cost, theta = gradient_descent(X, y, learning_rate, itr)\n",
        "print(theta)"
      ]
    },
    {
      "cell_type": "code",
      "execution_count": 30,
      "metadata": {
        "colab": {
          "base_uri": "https://localhost:8080/",
          "height": 491
        },
        "id": "uHq_oT02ThIf",
        "outputId": "f764c906-50d4-4771-dade-d1f79aaba2a6"
      },
      "outputs": [
        {
          "data": {
            "image/png": "[encoded data removed]",
            "text/plain": [
              "<Figure size 640x480 with 1 Axes>"
            ]
          },
          "metadata": {},
          "output_type": "display_data"
        },
        {
          "name": "stdout",
          "output_type": "stream",
          "text": [
            "Lowest cost =0.2942508844928195\n",
            " Cost after 2000 iterations = 0.2942508844928195\n"
          ]
        }
      ],
      "source": [
        "# Checking out the loss or cost plot\n",
        "plt.plot(cost)\n",
        "plt.xlabel(\"Epoch (number of iteration)\")\n",
        "plt.ylabel( \"Cost or Loss\")\n",
        "plt.show()\n",
        "print(\"Lowest cost =\" + str(np.min(cost)))\n",
        "print(\" Cost after 2000 iterations = \" + str(cost[-1]))"
      ]
    },
    {
      "cell_type": "markdown",
      "metadata": {
        "id": "1xhedfIUT2P4"
      },
      "source": [
        "### With Learning Rate of 0.1"
      ]
    },
    {
      "cell_type": "code",
      "execution_count": 21,
      "metadata": {
        "colab": {
          "base_uri": "https://localhost:8080/"
        },
        "id": "jDrxtNIiBmF2",
        "outputId": "6784dcaa-59e6-4495-b28a-24e34a7a0fdd"
      },
      "outputs": [
        {
          "name": "stdout",
          "output_type": "stream",
          "text": [
            "[9.09865873 0.47225833 0.06871792 0.12736459]\n"
          ]
        }
      ],
      "source": [
        "# Calculating theta and cost\n",
        "learning_rate = 0.1\n",
        "itr = 2000\n",
        "cost, theta = gradient_descent(X, y, learning_rate, itr)\n",
        "print(theta)"
      ]
    },
    {
      "cell_type": "code",
      "execution_count": 22,
      "metadata": {
        "colab": {
          "base_uri": "https://localhost:8080/",
          "height": 486
        },
        "id": "q_95LnrGBnq6",
        "outputId": "4a4c2ed6-7697-40ce-dbd2-2597c971b38b"
      },
      "outputs": [
        {
          "data": {
            "image/png": "[encoded data removed]",
            "text/plain": [
              "<Figure size 640x480 with 1 Axes>"
            ]
          },
          "metadata": {},
          "output_type": "display_data"
        },
        {
          "name": "stdout",
          "output_type": "stream",
          "text": [
            "Lowest cost =0.2942508844928193\n",
            " Cost after 2000 iterations = 0.29425088449281933\n"
          ]
        }
      ],
      "source": [
        "# Checking out the loss or cost plot\n",
        "plt.plot(cost)\n",
        "plt.xlabel(\"Epoch (number of iteration)\")\n",
        "plt.ylabel( \"Cost or Loss\")\n",
        "plt.show()\n",
        "print(\"Lowest cost =\" + str(np.min(cost)))\n",
        "print(\" Cost after 2000 iterations = \" + str(cost[-1]))"
      ]
    },
    {
      "cell_type": "markdown",
      "metadata": {
        "id": "-GHg2RNLSNuM"
      },
      "source": [
        "## <center> **Thank You for Reading! Happy Coding :)**"
      ]
    }
  ],
  "metadata": {
    "colab": {
      "provenance": []
    },
    "kernelspec": {
      "display_name": "Python 3",
      "name": "python3"
    },
    "language_info": {
      "name": "python"
    }
  },
  "nbformat": 4,
  "nbformat_minor": 0
}
